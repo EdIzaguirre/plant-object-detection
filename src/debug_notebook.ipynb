{
 "cells": [
  {
   "cell_type": "code",
   "execution_count": 2,
   "metadata": {},
   "outputs": [
    {
     "name": "stdout",
     "output_type": "stream",
     "text": [
      "Run('main_flow/2')\n",
      "Run('main_flow/1')\n"
     ]
    }
   ],
   "source": [
    "from metaflow import Flow\n",
    "flow = Flow('main_flow')\n",
    "for run in flow:\n",
    "    print(run)"
   ]
  },
  {
   "cell_type": "code",
   "execution_count": null,
   "metadata": {},
   "outputs": [],
   "source": [
    "def list_all_vars_in_step(flow, step, run=None):\n",
    "    \"\"\"\n",
    "    Lists all Metaflow artifacts in a particular flow in a particular step.\n",
    "\n",
    "    Parameters:\n",
    "    flow (String): Name of flow\n",
    "    step (String): Name of step\n",
    "    run (String): Number of run. Omit if you want the latest\n",
    "\n",
    "    Returns:\n",
    "    List of all artifacts stored in the step\n",
    "    \"\"\"\n",
    "\n",
    "    "
   ]
  },
  {
   "cell_type": "code",
   "execution_count": 12,
   "metadata": {},
   "outputs": [
    {
     "name": "stdout",
     "output_type": "stream",
     "text": [
      "[[[ 47.392517 114.83647   35.59838 ]\n",
      "  [ 46.779472 114.37091   34.1453  ]\n",
      "  [ 48.034855 115.084     34.207783]\n",
      "  ...\n",
      "  [ 46.63202   74.78806   43.39261 ]\n",
      "  [  0.         0.         0.      ]\n",
      "  [  0.         0.         0.      ]]\n",
      "\n",
      " [[ 52.41545  117.030624  40.017975]\n",
      "  [ 52.178234 116.62718   38.658913]\n",
      "  [ 52.806087 116.84942   38.340076]\n",
      "  ...\n",
      "  [ 37.899693  53.9925    39.225605]\n",
      "  [  0.         0.         0.      ]\n",
      "  [  0.         0.         0.      ]]\n",
      "\n",
      " [[ 56.74028  118.24907   43.830025]\n",
      "  [ 56.957    118.202065  43.31298 ]\n",
      "  [ 57.142372 118.20206   42.843224]\n",
      "  ...\n",
      "  [ 25.717606  33.291515  29.053535]\n",
      "  [  0.         0.         0.      ]\n",
      "  [  0.         0.         0.      ]]\n",
      "\n",
      " ...\n",
      "\n",
      " [[  0.         0.         0.      ]\n",
      "  [  0.         0.         0.      ]\n",
      "  [  0.         0.         0.      ]\n",
      "  ...\n",
      "  [  0.         0.         0.      ]\n",
      "  [  0.         0.         0.      ]\n",
      "  [  0.         0.         0.      ]]\n",
      "\n",
      " [[  0.         0.         0.      ]\n",
      "  [  0.         0.         0.      ]\n",
      "  [  0.         0.         0.      ]\n",
      "  ...\n",
      "  [  0.         0.         0.      ]\n",
      "  [  0.         0.         0.      ]\n",
      "  [  0.         0.         0.      ]]\n",
      "\n",
      " [[  0.         0.         0.      ]\n",
      "  [  0.         0.         0.      ]\n",
      "  [  0.         0.         0.      ]\n",
      "  ...\n",
      "  [  0.         0.         0.      ]\n",
      "  [  0.         0.         0.      ]\n",
      "  [  0.         0.         0.      ]]]\n",
      "<class 'numpy.ndarray'>\n",
      "(416, 416, 3)\n"
     ]
    }
   ],
   "source": [
    "from metaflow import Step\n",
    "latest_run = Flow('main_flow').latest_run\n",
    "step = latest_run['train_model']\n",
    "sample_train = step.task.data.sample_train\n",
    "data = sample_train[0].numpy()\n",
    "one_image = data[0,:,:,:]\n",
    "print(one_image)\n",
    "print(type(one_image))\n",
    "print(one_image.shape)"
   ]
  },
  {
   "cell_type": "code",
   "execution_count": null,
   "metadata": {},
   "outputs": [],
   "source": [
    "import matplotlib as plt\n",
    "\n",
    "# Display the image using matplotlib\n",
    "plt.imshow(one_image)\n",
    "plt.axis('off')  # Hide the axes\n",
    "plt.show()"
   ]
  }
 ],
 "metadata": {
  "kernelspec": {
   "display_name": "plant-object-detection",
   "language": "python",
   "name": "python3"
  },
  "language_info": {
   "codemirror_mode": {
    "name": "ipython",
    "version": 3
   },
   "file_extension": ".py",
   "mimetype": "text/x-python",
   "name": "python",
   "nbconvert_exporter": "python",
   "pygments_lexer": "ipython3",
   "version": "3.11.9"
  }
 },
 "nbformat": 4,
 "nbformat_minor": 2
}
