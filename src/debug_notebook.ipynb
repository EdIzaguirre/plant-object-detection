{
 "cells": [
  {
   "cell_type": "code",
   "execution_count": 7,
   "metadata": {},
   "outputs": [
    {
     "name": "stdout",
     "output_type": "stream",
     "text": [
      "Run('main_flow/3')\n",
      "Run('main_flow/2')\n",
      "Run('main_flow/1')\n"
     ]
    }
   ],
   "source": [
    "from metaflow import Flow\n",
    "flow = Flow('main_flow')\n",
    "for run in flow:\n",
    "    print(run)"
   ]
  },
  {
   "cell_type": "code",
   "execution_count": 21,
   "metadata": {},
   "outputs": [
    {
     "name": "stdout",
     "output_type": "stream",
     "text": [
      "{'boxes': <tf.RaggedTensor []>, 'classes': <tf.Tensor: shape=(0,), dtype=float32, numpy=array([], dtype=float32)>}\n",
      "<class 'dict'>\n",
      "<tf.RaggedTensor []>\n",
      "[]\n",
      "tf.Tensor([], shape=(0,), dtype=float32)\n"
     ]
    }
   ],
   "source": [
    "from metaflow import Step\n",
    "latest_run = Flow('main_flow').latest_run\n",
    "step = latest_run['deploy']\n",
    "y_pred = step.task.data.y_pred\n",
    "\n",
    "print(y_pred)\n",
    "print(type(y_pred))\n",
    "\n",
    "boxes = step.task.data.boxes\n",
    "print(boxes)\n",
    "\n",
    "box_list = step.task.data.box_list\n",
    "print(box_list)\n",
    "\n",
    "classes = step.task.data.classes\n",
    "print(classes)"
   ]
  },
  {
   "cell_type": "code",
   "execution_count": null,
   "metadata": {},
   "outputs": [],
   "source": []
  }
 ],
 "metadata": {
  "kernelspec": {
   "display_name": "plant-object-detection",
   "language": "python",
   "name": "python3"
  },
  "language_info": {
   "codemirror_mode": {
    "name": "ipython",
    "version": 3
   },
   "file_extension": ".py",
   "mimetype": "text/x-python",
   "name": "python",
   "nbconvert_exporter": "python",
   "pygments_lexer": "ipython3",
   "version": "3.11.9"
  }
 },
 "nbformat": 4,
 "nbformat_minor": 2
}
